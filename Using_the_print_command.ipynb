{
  "nbformat": 4,
  "nbformat_minor": 0,
  "metadata": {
    "colab": {
      "name": "0.0.1 Using the print command.ipynb",
      "provenance": [],
      "toc_visible": true,
      "authorship_tag": "ABX9TyPhTKph1Gs90vT82cB8domc",
      "include_colab_link": true
    },
    "kernelspec": {
      "name": "python3",
      "display_name": "Python 3"
    }
  },
  "cells": [
    {
      "cell_type": "markdown",
      "metadata": {
        "id": "view-in-github",
        "colab_type": "text"
      },
      "source": [
        "<a href=\"https://colab.research.google.com/github/nhs-pycom/python-time/blob/master/Using_the_print_command.ipynb\" target=\"_parent\"><img src=\"https://colab.research.google.com/assets/colab-badge.svg\" alt=\"Open In Colab\"/></a>"
      ]
    },
        {
      "metadata": {
        "colab_type": "text",
        "id": "9J7p406abzgl"
      },
      "cell_type": "markdown",
      "source": [
        "<img height=\"60px\" src=\"https://colab.research.google.com/img/colab_favicon.ico\" align=\"left\" hspace=\"20px\" vspace=\"5px\">\n",
        "\n",
        "<h1>Welcome to Colaboratory!</h1>\n",
        "Colaboratory is a free Jupyter notebook environment that requires no setup and runs entirely in the cloud. See our [FAQ](https://research.google.com/colaboratory/faq.html) for more info."
      ]
    },
    {
      "metadata": {
        "colab_type": "text",
        "id": "-Rh3-Vt9Nev9"
      },
      "cell_type": "markdown",
      "source": [
        "## Getting Started\n",
        "- [Overview of Colaboratory](/notebooks/basic_features_overview.ipynb)\n"
      ]
    },
    {
      "cell_type": "markdown",
      "metadata": {
        "id": "tR7_0pJyYSrR"
      },
      "source": [
        "# python-time-0.0.1\r\n",
        "# Using the 'print' command\r\n",
        "\r\n",
        "The 'print' statement is one of the simplest commands in Python. \r\n",
        "```python\r\n",
        "print(\"your text goes here\")\r\n",
        "```\r\n",
        "It does exactly what you might expect, prints the words \"*your text goes here*\" verbatim onto the screen. We are going to be using print often as it is really useful to be able to spell out the results of our programme. \r\n",
        "\r\n",
        "Working in the NHS, the print function is also important for adding context to your analysis. For example, imagine we have developed some formula and the result python gives us is `0.26`. But 26 what? 26 minutes, 26 people? Who knows?\r\n",
        "\r\n",
        "Raw data from python is not always very informative on its own, so we need to add context and formatting to these results, to give readers a better understanding of the data.\r\n",
        "\r\n",
        "#### Some things to watch out for:\r\n",
        "\r\n",
        "- The `print` command has no capital letter.\r\n",
        "- The text in parentheses () is called a [string](https://docs.python.org/3/library/stdtypes.html#text-sequence-type-str) (i.e., a sequence of any characters such as letters, numbers and symbols).\r\n",
        "- Strings need to be enclosed \"quotation marks\".\r\n",
        "\r\n",
        "These simple rules for code are called the syntax. This is important as incorrect syntax will result in broken code that won’t work (i.e., a syntax error).\r\n",
        "\r\n",
        "# Today's Lesson:\r\n",
        "\r\n",
        "Try running the python code in this repository. You'll get some nasty looking red text with the word `SyntaxError`. Woops. Don't worry though, running into errors in your code happens all the time. Understanding errors and fixing them is integral to learning programming.\r\n",
        "\r\n",
        "This is typically how python programming works. You make a change to the code in the python file and then run the file to see what the results are. Make some changes, then run it again. Writing code is very iterative in this way, rather than more linear writing you might do for a report. You might end up running the python code hundreds of times to get it working just right. However, knowing how to deal with python code that is wrong is almost as important as getting the code right.\r\n",
        "\r\n",
        "`Task 1 - Fix the code below. Looks like someone forgot to add a closing parenthesis ')' to their print command, doh!`"
      ]
    },
    {
      "cell_type": "code",
      "metadata": {
        "id": "-1agoA4EYNOy"
      },
      "source": [
        "# print 'hello world' using python\r\n",
        "print(\"Hello World\""
      ],
      "execution_count": null,
      "outputs": []
    },
    {
      "cell_type": "markdown",
      "metadata": {
        "id": "-OiQ2MrRY4Mg"
      },
      "source": [
        "Once you have fixed the code, try running this python file again using the run button above.\r\n",
        "\r\n",
        "`Task 2 - Modify the code to output your own message.`\r\n",
        "\r\n",
        "`Task 3 - Add a comment with the hash (#) symbol to let others know what it does.`\r\n",
        "\r\n",
        "## Real-World Application:\r\n",
        "\r\n",
        "The `print` statement can be useful for adding context to your analysis. For example, imagine the results of a calculation is `0.26`, this is not very informative on its own. Instead, we can add text (in the form of a python string) and formatting to these results to give readers a better understanding of the data:\r\n",
        "```\r\n",
        "26% of the GP registered population\r\n",
        "```\r\n",
        "\r\n"
      ]
    }
  ]
}
