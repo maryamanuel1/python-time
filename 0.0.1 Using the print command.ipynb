the {
 "metadata": {
  "language_info": {
   "codemirror_mode": {
    "name": "ipython",
    "version": 3
   },
   "file_extension": ".py",
   "mimetype": "text/x-python",
   "name": "python",
   "nbconvert_exporter": "python",
   "pygments_lexer": "ipython3",
   "version": "3.8.5-final"
  },
  "orig_nbformat": 2,
  "kernelspec": {
   "name": "python3",
   "display_name": "Python 3",
   "language": "python"
  }
 },
 "nbformat": 4,
 "nbformat_minor": 2,
 "cells": [
  {
   "source": [
    "# python-time-0.0.1\n",
    "## Using the 'print' command\n",
    "\n",
    "The 'print' statement is one of the simplest commands in Python. \n",
    "```python\n",
    "print(\"your text goes here\")\n",
    "```\n",
    "It does exactly what you might expect, prints the words \"*your text goes here*\" verbatim onto the screen. We are going to be using print often as it is really useful to be able to spell out the results of our programme. \n",
    "\n",
    "Working in the NHS, the print function is also important for adding context to your analysis. For example, imagine we have developed some formula and the result python gives us is `0.26`. But 26 what? 26 minutes, 26 people? Who knows?\n",
    "\n",
    "Raw data from python is not always very informative on its own, so we need to add context and formatting to these results, to give readers a better understanding of the data.\n",
    "\n",
    "#### Some things to watch out for:\n",
    "\n",
    "- The `print` command has no capital letter.\n",
    "- The text in parentheses () is called a [string](https://docs.python.org/3/library/stdtypes.html#text-sequence-type-str) (i.e., a sequence of any characters such as letters, numbers and symbols).\n",
    "- Strings need to be enclosed \"quotation marks\".\n",
    "\n",
    "These simple rules for code are called the syntax. This is important as incorrect syntax will result in broken code that won’t work (i.e., a syntax error)."
   ],
   "cell_type": "markdown",
   "metadata": {}
  },
  {
   "source": [
    "## Today's Lesson:\n",
    "\n",
    "Try running the python code in this repository. You'll get some nasty looking red text with the word `SyntaxError`. Woops. Don't worry though, running into errors in your code happens all the time. Understanding errors and fixing them is integral to learning programming.\n",
    "\n",
    "This is typically how python programming works. You make a change to the code in the python file and then run the file to see what the results are. Make some changes, then run it again. Writing code is very iterative in this way, rather than more linear writing you might do for a report. You might end up running the python code hundreds of times to get it working just right. However, knowing how to deal with python code that is wrong is almost as important as getting the code right.\n",
    "\n",
    "Task 1 - Fix the code below. Looks like someone forgot to add a closing parenthesis ')' to their print command, doh!"
   ],
   "cell_type": "markdown",
   "metadata": {}
  },
  {
   "cell_type": "code",
   "execution_count": 2,
   "metadata": {},
   "outputs": [
    {
     "output_type": "error",
     "ename": "SyntaxError",
     "evalue": "unexpected EOF while parsing (<ipython-input-2-9118316296ac>, line 2)",
     "traceback": [
      "\u001b[1;36m  File \u001b[1;32m\"<ipython-input-2-9118316296ac>\"\u001b[1;36m, line \u001b[1;32m2\u001b[0m\n\u001b[1;33m    print(\"Hello World\"\u001b[0m\n\u001b[1;37m                       ^\u001b[0m\n\u001b[1;31mSyntaxError\u001b[0m\u001b[1;31m:\u001b[0m unexpected EOF while parsing\n"
     ]
    }
   ],
   "source": [
    "# print 'hello world' using python\n",
    "print(\"Hello World\""
   ]
  },
  {
   "source": [
    "Once you have fixed the code, try running this python file again using the run button above.\n",
    "\n",
    "Task 2 - Modify the code to output your own message. \n",
    "\n",
    "Task 3 - Add a comment with the hash (#) symbol to let others know what it does."
   ],
   "cell_type": "markdown",
   "metadata": {}
  },
  {
   "source": [
    "## Real-World Application:\n",
    "\n",
    "The `print` statement can be useful for adding context to your analysis. For example, imagine the results of a calculation is `0.26`, this is not very informative on its own. Instead, we can add text (in the form of a python string) and formatting to these results to give readers a better understanding of the data:\n",
    "```\n",
    "26% of the GP registered population\n",
    "```"
   ],
   "cell_type": "markdown",
   "metadata": {}
  },
  {
   "source": [
    "## About:\n",
    "Resources forked from [Andy Colley's](mailto:andy@learningdust.com) '[Introduction to Python](https://drive.google.com/drive/folders/1w1UZLD2sMQlEeFvOVmjUxk4WU8p0o8dJ)' course."
   ],
   "cell_type": "markdown",
   "metadata": {}
  }
 ]
}