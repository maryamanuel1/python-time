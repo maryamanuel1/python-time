{
  "nbformat": 4,
  "nbformat_minor": 0,
  "metadata": {
    "colab": {
      "name": "python times.ipynb",
      "provenance": [],
      "toc_visible": true,
      "authorship_tag": "ABX9TyPcJZYnDQ+tUpRhb4W7Kcuf",
      "include_colab_link": true
    },
    "kernelspec": {
      "name": "python3",
      "display_name": "Python 3"
    }
  },
  "cells": [
    {
      "cell_type": "markdown",
      "metadata": {
        "id": "view-in-github",
        "colab_type": "text"
      },
      "source": [
        "<a href=\"https://colab.research.google.com/github/nhs-pycom/python-time/blob/dev/python_times.ipynb\" target=\"_parent\"><img src=\"https://colab.research.google.com/assets/colab-badge.svg\" alt=\"Open In Colab\"/></a>"
      ]
    },
    {
      "cell_type": "markdown",
      "metadata": {
        "id": "nGLHy4F_-flE"
      },
      "source": [
        "# Python Time"
      ]
    },
    {
      "cell_type": "markdown",
      "metadata": {
        "id": "xADnoVFN_SFG"
      },
      "source": [
        "# Using the 'print' command\r\n",
        "\r\n",
        "The 'print' statement is one of the simplest commands in Python. "
      ]
    },
    {
      "cell_type": "code",
      "metadata": {
        "id": "OGCo-oO6_Tva",
        "outputId": "8a0ff7d8-ed22-489c-e2da-c214037a5701",
        "colab": {
          "base_uri": "https://localhost:8080/"
        }
      },
      "source": [
        "print(\"your text goes here\")"
      ],
      "execution_count": 1,
      "outputs": [
        {
          "output_type": "stream",
          "text": [
            "your text goes here\n"
          ],
          "name": "stdout"
        }
      ]
    },
    {
      "cell_type": "markdown",
      "metadata": {
        "id": "sCQmVuH29MFu"
      },
      "source": [
        "It does what you might expect, prints the words \"*your text goes here*\" verbatim onto the screen. We are going to be using print often as it is really useful to be able to spell out the results of our programme. \r\n",
        "\r\n",
        "The print function is also important for adding context to your analysis. For example, imagine we have developed some formula and the result python gives us is `26`. But 26 what? 26 minutes, 26 people? Who knows?\r\n",
        "\r\n",
        "Raw data from python is not always very informative on its own, so we need to add context and formatting to these results, to give readers a better understanding of the data.\r\n",
        "\r\n",
        "#### Some things to watch out for:\r\n",
        "\r\n",
        "- The `print` command has no capital letter.\r\n",
        "- The text in parentheses () is called a [string](https://docs.python.org/3/library/stdtypes.html#text-sequence-type-str) (i.e., a sequence of any characters such as letters, numbers and symbols).\r\n",
        "- Strings need to be enclosed \"quotation marks\".\r\n",
        "\r\n",
        "These simple rules for code are called the syntax. This is important as incorrect syntax will result in broken code that won’t work (i.e., a syntax error).\r\n",
        "\r\n",
        "# Today's Lesson:\r\n",
        "\r\n",
        "Try running the python code in this repository. You'll get some nasty looking red text with the word `SyntaxError`. Woops. Don't worry though, running into errors in your code happens all the time. Understanding errors and fixing them is integral to learning programming.\r\n",
        "\r\n",
        "This is typically how python programming works. You make a change to the code in the python file and then run the file to see what the results are. Make some changes, then run it again. Writing code is very iterative in this way, rather than more linear writing you might do for a report. You might end up running the python code hundreds of times to get it working just right. However, knowing how to deal with python code that is wrong is almost as important as getting the code right."
      ]
    },
    {
      "cell_type": "code",
      "metadata": {
        "id": "DKfTNjcB9PbY",
        "outputId": "64e71679-1126-4a96-f40a-7a9decd72f78",
        "colab": {
          "base_uri": "https://localhost:8080/",
          "height": 132
        }
      },
      "source": [
        "# Task 1 - Fix the code below. Looks like someone forgot to add a closing\r\n",
        "# parenthesis ')' to their print command, doh!\r\n",
        "print(\"Hello World\""
      ],
      "execution_count": 2,
      "outputs": [
        {
          "output_type": "error",
          "ename": "SyntaxError",
          "evalue": "ignored",
          "traceback": [
            "\u001b[0;36m  File \u001b[0;32m\"<ipython-input-2-f45545b4895f>\"\u001b[0;36m, line \u001b[0;32m2\u001b[0m\n\u001b[0;31m    print(\"Hello World\"\u001b[0m\n\u001b[0m                       ^\u001b[0m\n\u001b[0;31mSyntaxError\u001b[0m\u001b[0;31m:\u001b[0m unexpected EOF while parsing\n"
          ]
        }
      ]
    },
    {
      "cell_type": "markdown",
      "metadata": {
        "id": "utKS93n8_6Q1"
      },
      "source": [
        "Once you have fixed the code, try the following exercises:"
      ]
    },
    {
      "cell_type": "code",
      "metadata": {
        "id": "I6g3x2YKAG0p",
        "outputId": "8588169b-2159-49b9-9761-3165bbf91820",
        "colab": {
          "base_uri": "https://localhost:8080/"
        }
      },
      "source": [
        "# Task 2 - Modify the code to output your own message. and add a comment with\r\n",
        "# the hash (#) symbol to let others know what it does.\r\n",
        "print()"
      ],
      "execution_count": 4,
      "outputs": [
        {
          "output_type": "stream",
          "text": [
            "\n"
          ],
          "name": "stdout"
        }
      ]
    },
    {
      "cell_type": "markdown",
      "metadata": {
        "id": "Vr8HaAh69UF9"
      },
      "source": [
        "\r\n",
        "\r\n",
        "## Real-World Application:\r\n",
        "\r\n",
        "The `print` statement can be useful for adding context to your analysis. For example, imagine the results of a calculation is `0.26`, this is not very informative on its own. Instead, we can add text (in the form of a python string) and formatting to these results to give readers a better understanding of the data:\r\n",
        "```\r\n",
        "26% of the GP registered population\r\n",
        "```"
      ]
    },
    {
      "cell_type": "markdown",
      "metadata": {
        "id": "O1U1rRwv-S-9"
      },
      "source": [
        "# Variable assignment\r\n",
        "\r\n",
        "Variables are aliases in which we can store information. By putting information into a variable, we can recall that information at any point later in the programme just by typing its name. To assign information to a variable we just need the 'equals' sign (=) after the variable name as follows:\r\n",
        "```\r\n",
        "variable = \"our information\"\r\n",
        "```\r\n",
        "A variable can be named (almost) whatever you like, however there are standard naming conventions that are good to follow:\r\n",
        "```\r\n",
        "l             # A poor choice – it has no meaning\r\n",
        "length        # Okay but a bit vague\r\n",
        "side_length   # Good\r\n",
        "sideLength    # Better - camelCase\r\n",
        "side length   # Wrong – we can't use spaces\r\n",
        "```\r\n",
        "Certain words have been reserved for a specific purpose in the python syntax. These are called *keywords* and can’t be used as aliases for your variables. Running the main.py python file in this repository will show a list of the keywords in python3. You don't have to memorise them all right now, but be aware that you will get a syntax error if you try using them as a variable name.\r\n",
        "\r\n",
        "## Today's Lesson:\r\n",
        "\r\n",
        "For this lession we are going to have a go at entering our names as a variable. Open the main.py python file in this repository. From there, follow the instructions written in the comments.\r\n",
        "\r\n",
        "## Real-World Application:\r\n",
        "\r\n",
        "Being able to store, edit, and recall information using a simple alias is a very useful tool that makes data manipulation faster to code and easier to understand. While you can give a name to a specific range of cells in excel (an underutilised feature), calculations are still done on a cell-by-cell basis--making adjustments time consuming and finding errors particularly difficult.\r\n",
        "\r\n",
        "## About:\r\n",
        "Resources forked from [Andy Colley's](mailto:andy@learningdust.com) '[Introduction to Python](https://drive.google.com/drive/folders/1w1UZLD2sMQlEeFvOVmjUxk4WU8p0o8dJ)' course."
      ]
    },
    {
      "cell_type": "code",
      "metadata": {
        "id": "tt_vU5GgAlpF",
        "outputId": "59e25e5b-4c73-45e1-8833-af3760879136",
        "colab": {
          "base_uri": "https://localhost:8080/"
        }
      },
      "source": [
        "# From the library 'keyword' import and print the keyword list `kwlist`\r\n",
        "import keyword\r\n",
        "print(keyword.kwlist)"
      ],
      "execution_count": 5,
      "outputs": [
        {
          "output_type": "stream",
          "text": [
            "['False', 'None', 'True', 'and', 'as', 'assert', 'async', 'await', 'break', 'class', 'continue', 'def', 'del', 'elif', 'else', 'except', 'finally', 'for', 'from', 'global', 'if', 'import', 'in', 'is', 'lambda', 'nonlocal', 'not', 'or', 'pass', 'raise', 'return', 'try', 'while', 'with', 'yield']\n"
          ],
          "name": "stdout"
        }
      ]
    },
    {
      "cell_type": "code",
      "metadata": {
        "colab": {
          "base_uri": "https://localhost:8080/"
        },
        "id": "Vlv5aISd-lnv",
        "outputId": "c65eef4d-e342-4304-df28-18c5034a9487"
      },
      "source": [
        "# python-time-0.0.2\r\n",
        "\r\n",
        "# From the library 'keyword' import and print the keyword list `kwlist`\r\n",
        "import keyword\r\n",
        "print(keyword.kwlist)\r\n",
        "\r\n",
        "# Task 1 - Try adding your name in between the \"quotation marks\"\r\n",
        "\r\n",
        "# Assign your name to the variable 'firstName'\r\n",
        "firstName = \"\"\r\n",
        "\r\n",
        "# To 'call' a variable we simply have to type its name. Note that variable names are not in \"quotation marks\" \r\n",
        "print(firstName)\r\n",
        "\r\n",
        "# Task 2 - Add your first and last names in between the \"quotation marks\"\r\n",
        "\r\n",
        "firstName = \"\"\r\n",
        "lastName = \"\"\r\n",
        "\r\n",
        "# In python we can 'add' (or concatenate) two strings together using the (+) symbol just like in maths\r\n",
        "\r\n",
        "# Print my first and second name\r\n",
        "print(firstName + lastName)\r\n",
        "\r\n",
        "# Hmm that doesn't look quite right. We also need a space between the names, so lets add empty string in the middle.\r\n",
        "\r\n",
        "print(firstName + \" \" + lastName)\r\n",
        "\r\n",
        "# Much better. Now that we have been properly introduced, lets move on to the next lession."
      ],
      "execution_count": null,
      "outputs": [
        {
          "output_type": "stream",
          "text": [
            "['False', 'None', 'True', 'and', 'as', 'assert', 'break', 'class', 'continue', 'def', 'del', 'elif', 'else', 'except', 'finally', 'for', 'from', 'global', 'if', 'import', 'in', 'is', 'lambda', 'nonlocal', 'not', 'or', 'pass', 'raise', 'return', 'try', 'while', 'with', 'yield']\n",
            "\n",
            "\n",
            " \n"
          ],
          "name": "stdout"
        }
      ]
    },
    {
      "cell_type": "markdown",
      "metadata": {
        "id": "6m-40HVD-9zW"
      },
      "source": [
        "# Arithmetic operators\r\n",
        "\r\n",
        "In this lesson we are going to be using python as a calculator. It works almost exactly as you might expect. We can type in some calculations and python with return the results.\r\n",
        "```\r\n",
        "2 * 3\r\n",
        ">>> 6\r\n",
        "```\r\n",
        "The standard arithmetic operators you might find on a calculator are represented in python as follows:\r\n",
        "\r\n",
        "|Operator |Example |Name |Result |\r\n",
        "|-|-|-|-|\r\n",
        "|`+`|`2 + 3`|Addition |Sum of `2` and `3` |\r\n",
        "|`-`|`2 - 3`|Subtraction|Subtract `3` from `a` |\r\n",
        "|`*`|`2 * 3`|Multiplication|Multiply `2` by `3`|\r\n",
        "|`/`|`2 / 3`|Division |Divide `2` by `3`|\r\n",
        "|`//`|`2 // 3`|Floor Division (also called Integer Division)|Divide `2` by `3`, rounded to the next smallest whole number (integer)|\r\n",
        "|`%`|`2 % 3`|Modulo|Remainder when `2` is divided by `3`|\r\n",
        "|`**`|`2 ** 3`|Exponentiation|Raise `2` to the power of `3`|\r\n",
        "\r\n",
        "Note that the spacing between operators is optional, however it does tend to make things easier to read.\r\n",
        "\r\n",
        "## Ints\r\n",
        "\r\n",
        "Their name will be written as a string (i.e., a sequence of any characters, in this case letters) and their age will typically be written as a whole number of years. However, by default all user inputs are read as a string (yes even if they are numbers). We will have to convert the user's age to an integer type using the `int()` function before doing any mathematical operations.\r\n",
        "\r\n",
        "While this seems like an inconvenience, the distinction is very important in python as the type (or datatype) of the information we are programming with can be used in very different ways. You can easily tell which datatype you are working with using the `type()` function. For example:\r\n",
        "\r\n",
        "```python\r\n",
        "print(type(\"text\"))\r\n",
        "<class 'str'>\r\n",
        "\r\n",
        "print(type(5))\r\n",
        "<class 'int'>\r\n",
        "```\r\n",
        "\r\n",
        "## Floating point numbers\r\n",
        "As we are using division, we will encounter calculations that do not return whole numbers. In programming, these are called floating point numbers or `floats`, and are numbers that contain decimal points, or fractions. \r\n",
        "\r\n",
        "A problem with floats is that the large number of digits (by default 15 decimal places) is not exactly easy to read. While this level of accuracy can be helpful in being precise, it is often better (or required) to present the results of your work to only two decimal places. \r\n",
        "\r\n",
        "We can use the [`format()`](https://docs.python.org/3/library/string.html#string-formatting) function to set the number of decimal places (among other things) using the following syntax:\r\n",
        "```\r\n",
        "\"{:options}\".format(results)\r\n",
        "```\r\n",
        "So for example, to print the results of a calculation to two decimal places we can enter:\r\n",
        "```\r\n",
        "print(\"{:.2f}\".format(3.141592653589793))\r\n",
        ">>> 3.14\r\n",
        "```\r\n",
        "Where the `f` type sets the output as a fixed-point number and the `.2` sets the number of digits to print after the decimal place.\r\n",
        "\r\n",
        "There are a significant number of other formatting options available using the `format()` function, details are available here: [pyformat.info](https://pyformat.info/)\r\n",
        "\r\n",
        "## Today's Lesson:\r\n",
        "\r\n",
        "Open the main.py python file in this repository. From there, follow the instructions written in the comments.\r\n",
        "\r\n",
        "## Real-World Application:\r\n",
        "\r\n",
        "The results of many real-world calculations return a percentage or proportion value. We can use the python formatting options in the `format()' function to display our results in a human friendly manner:\r\n",
        "```\r\n",
        "print(\"{0:.1%}\".format(1/3))\r\n",
        ">>> 33.3%\r\n",
        "```\r\n",
        "Where the `%` type sets the output as a percentage and the `.1` sets the number of digits to print after the decimal place.\r\n",
        "\r\n",
        "## About:\r\n",
        "Resources forked from [Andy Colley's](mailto:andy@learningdust.com) '[Introduction to Python](https://drive.google.com/drive/folders/1w1UZLD2sMQlEeFvOVmjUxk4WU8p0o8dJ)' course."
      ]
    },
    {
      "cell_type": "code",
      "metadata": {
        "id": "IRIXuAWQ_IP4"
      },
      "source": [
        "# python-time-0.0.4\r\n",
        "## Arithmetic operators\r\n",
        "\r\n",
        "# Task 1 - Add comments to this code to predict what it will do.\r\n",
        "\r\n",
        "# Addition = \r\n",
        "print(10 + 3)\r\n",
        "\r\n",
        "# Subtraction = \r\n",
        "print(10 - 3)\r\n",
        "\r\n",
        "# Multiplication = \r\n",
        "print(10 * 3)\r\n",
        "\r\n",
        "# Division = \r\n",
        "print(10 / 3)\r\n",
        "\r\n",
        "# Floor division = \r\n",
        "print(10 // 3)\r\n",
        "\r\n",
        "# Modulo = \r\n",
        "print(10 % 3)\r\n",
        "\r\n",
        "# Exponentiation = \r\n",
        "print(10 ** 3)\r\n",
        "\r\n",
        "# Note how we don't have to tell Python that the results are going to be `integers` or `floats`. Python will take care of the details. Not all programming languages work this way.\r\n",
        "\r\n",
        "# The format() function allows us to print our results in a more human readable format. \r\n",
        "\r\n",
        "# Lets format the result of 10 / 3 to 2 decimal places i.e., to 2 numbers after the deciaml point (.)\r\n",
        "print(\"Dividing 10 by 3 = {:.2f}\".format(10/3))\r\n",
        "\r\n",
        "# Task 2 - Write code that prints the result of another calculation to 3 decimal places\r\n"
      ],
      "execution_count": null,
      "outputs": []
    },
    {
      "cell_type": "markdown",
      "metadata": {
        "id": "fknXZA3i_Jr0"
      },
      "source": [
        "# Variables and operators:\r\n",
        "\r\n",
        "In this lesson we are going to be using the same arithmetic operators but now with variables. \r\n",
        "\r\n",
        "Numerical varables still work with the standard python arithmetic operators:\r\n",
        "\r\n",
        "|Operator |Example |Name |Result |\r\n",
        "|-|-|-|-|\r\n",
        "|`+`|`a + b`|Addition |Sum of `a` and `b` |\r\n",
        "|`-`|`a - b`|Subtraction|Subtract `b` from `a` |\r\n",
        "|`*`|`a * b`|Multiplication|Multiply `a` by `b`|\r\n",
        "|`/`|`a / b`|Division |Divide `a` by `b`|\r\n",
        "|`%`|`a % b`|Modulo|Remainder when `a` is divided by `b`|\r\n",
        "|`//`|`a // b`|Floor Division (also called Integer Division)|Divide `a` by `b`, rounded to the next smallest whole number (integer)|\r\n",
        "|`**`|`a ** b`|Exponentiation|Raise `a` to the power of `b`|\r\n",
        "\r\n",
        "When we start writing more complex equations with multiple operators, python follows the order of operations in mathematics (PEDMAS):\r\n",
        "\r\n",
        "- **P**arentheses, then\r\n",
        "- **E**xponents, then\r\n",
        "- **M**ultiplication and **D**ivision, left to right, then\r\n",
        "- **A**ddition and **S**ubtraction, left to right\r\n",
        "\r\n",
        "The full list of python operator precedence is available here: [docs.python.org](https://docs.python.org/3/reference/expressions.html#operator-precedence)\r\n",
        "\r\n",
        "## More on formatting:\r\n",
        "In addition to formatting, the `format()` function can also take multiple varables and rearange them in any order you like. This can be quite useful for turning your analysis into plain english sentances. The `format()` function syntax for multiple variables works as follows:\r\n",
        "```\r\n",
        "\"{index:format} {index:format}\".format(variable[0], variable[1])\r\n",
        "```\r\n",
        "Where we place the index of each variable (starting with 0) before the formatting in each curly brackets {}.\r\n",
        "\r\n",
        "In the example below, we save two variables as `floats` and format the results:\r\n",
        "```\r\n",
        "variable1 = 10 / 3\r\n",
        "variable2 = 20 / 3\r\n",
        "print(\"Result = {0:.2f} and {1:.6f}\".format(variable1, variable2))\r\n",
        ">>> Result = 3.33 and 6.666666\r\n",
        "```\r\n",
        "Here, we have called `variable1` first (formatted to 2 decimal places), and called `variable2` second (formatted to 6 decimal places).\r\n",
        "\r\n",
        "## Real-World Applications:\r\n",
        "\r\n",
        "In the NHS we often need to calculate the incidence rates (of cancer for example) per 100,000 population. We can do this in python using the functions we have learned so far:\r\n",
        "```\r\n",
        "rate = (count / population) * 1000000\r\n",
        "print(\"Incidence rate = {0:.1f} cases per 100,000 population\".format(rate))\r\n",
        ">>> Incidence rate = 29.4 cases per 100,000 population\r\n",
        "```\r\n",
        "Note how python calculates the division operation in parentheses before multiplying the results by 100,000, following the order of operations outlined above.\r\n",
        "\r\n",
        "## References:\r\n",
        "\r\n",
        "(0) Resources forked from [Andy Colley's](mailto:andy@learningdust.com) '[Introduction to Python](https://drive.google.com/drive/folders/1w1UZLD2sMQlEeFvOVmjUxk4WU8p0o8dJ)' course.\r\n",
        "\r\n",
        "(1) ONS, [Cancer registration statistics, England: 2017. Cancer diagnoses and age-standardised incidence rates for all types of cancer by age, sex and region including breast, prostate, lung and colorectal cancer.](https://www.ons.gov.uk/peoplepopulationandcommunity/healthandsocialcare/conditionsanddiseases/bulletins/cancerregistrationstatisticsengland/2017) [Online]\r\n",
        "\r\n",
        "(2) ONS, [Estimates of the population for the UK, England and Wales, Scotland and Northern Ireland, 2017.](https://www.ons.gov.uk/peoplepopulationandcommunity/populationandmigration/populationestimates/datasets/populationestimatesforukenglandandwalesscotlandandnorthernireland) [Online]"
      ]
    },
    {
      "cell_type": "code",
      "metadata": {
        "id": "Zn1IR4Yr_JXz"
      },
      "source": [
        "# python-time-0.0.5\r\n",
        "## Variables and operators\r\n",
        "\r\n",
        "# Task 1 - Add comments to predict what the code below will do.\r\n",
        "\r\n",
        "variable1 = 20\r\n",
        "variable2 = 5\r\n",
        "result = variable1 * variable2\r\n",
        "print(result)\r\n",
        " \r\n",
        "# Task 2 - Write code that uses numbers stored in 2 variables to perform a calculation \r\n",
        "\r\n",
        "\r\n",
        "# In the example below we format the output to create a plain english sentence\r\n",
        "\r\n",
        "width = 20\r\n",
        "height = 30\r\n",
        "area = height * width\r\n",
        "print(\"If the width = {1:d}cm and the height = {2:d}cm, then the area of a rectangle = {0:d}cm2\".format(area, width, height))\r\n",
        "\r\n",
        "# Task 3 - Write your own calculation with at least three variables and format the results\r\n",
        "\r\n",
        "\r\n",
        "\r\n",
        "\r\n",
        "# Lets use real NHS data to calculte the crude incidence rate for Cancer in England using ONS cancer (1) and population (2) datasets.\r\n",
        "\r\n",
        "# Number of new cancer diagnoses in England in 2017 = 305,683\r\n",
        "count = 305683\r\n",
        "\r\n",
        "# Population of England in 2017 = 55,268,067\r\n",
        "population = 55619430\r\n",
        "\r\n",
        "# Task 4 - Replace None with the crude rate calculation (see README.md for hints)\r\n",
        "crudeRate = None\r\n",
        "\r\n",
        "# Task 5 - Fill in the formatting required to display the resuling `float` type to 1 decimal place\r\n",
        "print(\"Incidence rate for all cancers = {} per 100,000 population\".format(crudeRate))"
      ],
      "execution_count": null,
      "outputs": []
    },
    {
      "cell_type": "markdown",
      "metadata": {
        "id": "AWWlEyLP_JK-"
      },
      "source": [
        "# Booleans and IF statements\r\n",
        "\r\n",
        "`IF` statements only return the result if the statement is `TRUE`. For example, we might want a programme that reminds us to take an umbrella if it's raining outside. \r\n",
        "\r\n",
        "- The question of whether or not it's raining outside is either `TRUE` or `FALSE`.\r\n",
        "- We can ask the computer `IF` is it raining? Assuming we get an answer,\r\n",
        "- `IF` it is raining the result will be `TRUE`.\r\n",
        "- Then we should take an umbrella!\r\n",
        "\r\n",
        "Variables that can only be `TRUE` or `FALSE` are called booleans and the `IF` statement is a boolean condition that decides whether or not to run the code.\r\n",
        "\r\n",
        "In python an `IF` statement might look as follows:\r\n",
        "```python\r\n",
        "IF raining == TRUE: \r\n",
        "  print(\"Take your umbrella\")\r\n",
        "```\r\n",
        "- The python code executes the first line and checks `IF` it is raining? \r\n",
        "- If it is `TRUE` that it is raining,\r\n",
        "- Python executes the second line and prints \"Take your umbrella\".\r\n",
        "- Otherwise nothing happens\r\n",
        "\r\n",
        "As you can imagine `IF` statements can be used in many different ways and are a powerful programming tool.\r\n",
        "\r\n",
        "## Boolean Operators\r\n",
        "\r\n",
        "The way in which we check boolean conditions in python is using logical operators.\r\n",
        "\r\n",
        "These are:\r\n",
        "\r\n",
        "==   Equal to/Same as (a single = is used to store data in a variable, so Python uses double = to compare two pieces of data)\r\n",
        "!= Not equal to\r\n",
        "\r\n",
        "The above two conditions can be used with integers or strings.  The ones below can only be used with numeric data (integers or floats/decimals)\r\n",
        "\r\n",
        "> Greater than\r\n",
        ">= Greater than or equal to\r\n",
        "< Less than\r\n",
        "<= Less than or equal to\r\n",
        "\r\n",
        "\r\n",
        "Let’s use the umbrella example again.  We want to compare the weather to rain to see if they are the same, so we would write our condition like this:\r\n",
        "\r\n",
        "IF weather == “rain” THEN\r\n",
        "\tTake your umbrella\r\n",
        "\r\n",
        "Case matters when comparing text using ==.  The match has to be exact.  For the example above, if the user inputs ‘rain’ then the condition will be true.  If they input ‘Rain’ then it will be false.  Future units will look at how to get around this issue.\r\n",
        "\r\n",
        "\r\n",
        "## Real-World Applications:\r\n",
        "\r\n",
        "You may be familiar with the `IF` Function in excel.\r\n",
        "\r\n",
        "## References:\r\n",
        "\r\n",
        "(0) Resources forked from [Andy Colley's](mailto:andy@learningdust.com) '[Introduction to Python](https://drive.google.com/drive/folders/1w1UZLD2sMQlEeFvOVmjUxk4WU8p0o8dJ)' course."
      ]
    },
    {
      "cell_type": "code",
      "metadata": {
        "id": "7hRsoWDY_JAu"
      },
      "source": [
        "# python-time-0.0.6\r\n",
        "## Booleans and IF statements\r\n",
        "\r\n",
        "# Task 1 - Add comments to explain what the input line does, and when the program below will output the text 'This text is output because the condition was true'\r\n",
        "\r\n",
        "num1 = int(input(\"Enter a number \"))\r\n",
        "\r\n",
        "if num1 == 10:\r\n",
        "  print(\"This text is output because the condition was true\")\r\n",
        "\r\n",
        "# Task 2\r\n",
        "\r\n",
        "# Edit the program below so that it works properly for the correct legal driving age.  Add comments to explain what the Boolean operator means.  Change the value in the age variable to\r\n",
        "\r\n",
        "age = int(input(\"How old are you? \"))\r\n",
        "\r\n",
        "if age >= 18:\r\n",
        "  print(\"You are old enough to drive\")\r\n",
        "\r\n",
        "\r\n",
        "# Task 3\r\n",
        "\r\n",
        "# Write a program that asks the user to input their name.  If they enter 'Dave' then the program outputs 'Hello Dave'"
      ],
      "execution_count": null,
      "outputs": []
    },
    {
      "cell_type": "code",
      "metadata": {
        "id": "ZlMq5ys7_Xx_"
      },
      "source": [
        "# python-time-0.0.7\r\n",
        "## More IF statements\r\n",
        "\r\n",
        "# Task - Predict and Run\r\n",
        "\r\n",
        "# Add comments to the code to explain:\r\n",
        "  # What will be output when the code is run?\r\n",
        "  # In what circumstances would the other output message be produced\r\n",
        "\r\n",
        "num1 = 42\r\n",
        "\r\n",
        "if num1 == 42:\r\n",
        "  print(\"You have discovered the meaning of life!\")\r\n",
        "else:\r\n",
        "  print(\"Sorry, you have failed to discover the meaning of life!\")\r\n",
        "\r\n",
        "\r\n",
        "# Task Investigate and Modify\r\n",
        "\r\n",
        "# Add to the code below so that it outputs 'You're not Dave!' if the user does not input 'Dave'\r\n",
        "\r\n",
        "name = input(\"What's your name?\")\r\n",
        "\r\n",
        "if name == \"Dave\":\r\n",
        "  print(\"Hello Dave\")\r\n",
        "\r\n",
        "# What is the condition in the code?\r\n",
        "\r\n",
        "# How would the code work if the operator was !> ?\r\n",
        "\r\n",
        "  #EXTRA CHALLENGE - Adapt the code so that it works in the same way but uses a not equal to Boolean operator.\r\n",
        "\r\n",
        "\r\n",
        "# Task 3 - Make - The login checker\r\n",
        "\r\n",
        "# Write a program that:\r\n",
        "  # Stores the number 1337 in a variable called 'password'\r\n",
        "  # Asks the user to guess the password and stores their input in a new variable (you choose the name)\r\n",
        "  # If the user inputs 1337 then output 'Password correct', otherwise output 'Password incorrect'\r\n",
        "\r\n",
        "\r\n",
        "\r\n",
        "  # Task 4 - Make 2 - Extra Challenge\r\n",
        "\r\n",
        "  # Write a program that:\r\n",
        "    # Asks the user to input two different numbers and stores them in two variables.\r\n",
        "    # Outputs the biggest number entered"
      ],
      "execution_count": null,
      "outputs": []
    },
    {
      "cell_type": "markdown",
      "metadata": {
        "id": "mT0Lf1vZ_Yap"
      },
      "source": [
        "# Looping\r\n",
        "\r\n",
        "What is Iteration?\r\n",
        "\r\n",
        "This week is focused on iteration, the code that makes the computer repeat certain lines of code.  Iteration is often more commonly known as looping.\r\n",
        "\r\n",
        "A loop repeats the code inside it.  There are several different types of loop, but in this course we are going to learn about conditional, or while loops.\r\n",
        "\r\n",
        "A while loop repeats the code inside it while the condition is true.  When the computer gets to the start of the loop it checks the condition.  If the condition is true the computer enters the loop and runs the code inside it.  If the condition is false, the computer skips past the loop and carries on with the rest of the program.\r\n",
        "\r\n",
        "When the computer gets to the end of the loop it goes back and checks the condition again.  If the condition is still true it goes back into the loop and runs the code inside again.  This keeps happening until the condition changes to become false.\r\n",
        "\r\n",
        "See the teacher notes for task 1 for a more concrete example.\r\n",
        "\r\n",
        "To summarise, this code should be written like this:\r\n",
        "\r\n",
        "```\r\n",
        "while  condition:\r\n",
        "\tCode to repeat if condition above is true. \r\n",
        "\r\n",
        "Code to run once condition is false and the program moves on.\r\n",
        "```\r\n",
        "Iteration - Key Concepts/Misconceptions\r\n",
        "Not all code has to be inside a loop - only put the steps you want to repeat in there.  Students often have trouble identifying these steps.  Question them to help them break down the problem into individual instructions and then identify which ones need repeating.\r\n",
        "Iteration runs ALL of the code inside the loop - it doesn’t skip some like selection does. Later units will cover how to combine the two techniques.\r\n",
        "1 - Iteration with a condition\r\n",
        "\r\n",
        "TEACHER NOTES \r\n",
        "\r\n",
        "Task 1\r\n",
        "\r\n",
        "This task example is in the form of a quiz which works in the following way:\r\n",
        "\r\n",
        "The user is asked a question and their response is stored in a variable.\r\n",
        "A loop is started with a condition that can be explained as ‘while the user gets the answer wrong’ - this is a typical use of the not equal to operator.  It often helps to explain to students that, for this sort of problem, the loop should run while the input is NOT what they want/correct.\r\n",
        "Code inside the loop is indented, just like selection.\r\n",
        "Inside the loop, the user is given an error message - not essential but good practice for usability.\r\n",
        "Inside the loop the user is given another chance to input - this is essential! Missing this step means that the user never has a chance to change their answer.  Therefore the loop condition will never change from true to false.  This creates an infinite loop that never ends.  Students often make this error.\r\n",
        "Getting the answer right breaks the loop as the condition is no longer true.  The computer moves on to the code after the loop, in this case a congratulations message."
      ]
    },
    {
      "cell_type": "code",
      "metadata": {
        "id": "mLD14AZL_Y4z"
      },
      "source": [
        "# python-time-0.0.8\r\n",
        "## Looping\r\n",
        "\r\n",
        "# Task 1 - Add comments to explain which code is in the loop and will be repeated.\r\n",
        "\r\n",
        "  # Explain the circumstances in which the loop will run.\r\n",
        "\r\n",
        "answer = input(\"What is the capital of France?\")\r\n",
        "\r\n",
        "while answer != \"Paris\":\r\n",
        "  print(\"Incorrect! Try again.\")\r\n",
        "  answer = input(\"What is the capital of France?\")\r\n",
        "\r\n",
        "print(\"Correct!\")\r\n",
        "\r\n",
        "\r\n",
        "# Task 2\r\n",
        "\r\n",
        "  # Add a line of code to the loop that outputs an 'incorrect' message to the user and tells them what to do again.\r\n",
        "  # Add a line of code to the loop that outputs an 'incorrect' message to the user, tells them what to do again and lets them re-input their number\r\n",
        "  # Add a line of code AFTER the loop that ouputs a thank you message and repeats the number entered back to the user.  Example - 'Thank you, you typed 7'\r\n",
        "\r\n",
        "num1 = int(input(\"Enter a number 10 or less\"))\r\n",
        "\r\n",
        "while num1 > 10:\r\n",
        "\r\n",
        "\r\n",
        "# Task 3\r\n",
        "\r\n",
        "  # Write a program that stores a secret number in a variable (you decide the number and the name of the variable)\r\n",
        "  # The user has to guess the secret number, the program should loop until they get it right.\r\n",
        "  # Once the user has guessed correctly they get a congratulations message"
      ],
      "execution_count": null,
      "outputs": []
    },
    {
      "cell_type": "markdown",
      "metadata": {
        "id": "SYjJ3afH_ZLY"
      },
      "source": [
        "## Counting in loops\r\n",
        "\r\n",
        "Counters are really useful when combined with loops.  When using a counter with a while loop there are a couple of points to remember:\r\n",
        "\r\n",
        "Create the counter variable and assign it a start value outside the loop.\r\n",
        "Increment (or decrement if you’re counting down) the counter inside the loop.  Not doing this will create an infinite loop. +=1 increments by 1.  -=1 decrements by 1.\r\n",
        "\r\n",
        "I have always called the counter variable ‘counter’ here as I find that students understand this more readily.  Traditionally in computing, this variable will be called ‘i’ which stands for index.  You will probably see i used for this purpose if you look up other examples online.\r\n"
      ]
    },
    {
      "cell_type": "code",
      "metadata": {
        "id": "VrpNWb6x_Zfc"
      },
      "source": [
        "# python-time-0.0.9\r\n",
        "## Counting in loops\r\n",
        "\r\n",
        "# Task 1\r\n",
        "\r\n",
        "  # Add comments to explain what the counter variable is used for, and what +=1 does.\r\n",
        "  # Add a comment that explains what the condition checks for.\r\n",
        "  # Add a line of code inside the loop that outputs the counter variable every time the loop runs.  What do you notice about what happens to it each time the loop repeats?\r\n",
        "  # Add a line of code after the loop that outputs the message 'The loop has finished'\r\n",
        "\r\n",
        "counter = 1\r\n",
        "\r\n",
        "while counter < 5:\r\n",
        "  print(\"This code is inside the loop\")\r\n",
        "  counter += 1\r\n",
        "\r\n",
        "\r\n",
        "# Task 2\r\n",
        "\r\n",
        "  # Add a line of code to the loop that subtracts one from the counter every time the loop runs  \r\n",
        "  # Add a line of code after the loop that outputs 'Blast off'\r\n",
        "  # EXTRA CHALLENGE - Adapt the code so that the user inputs the start value of the counter variable.\r\n",
        "\r\n",
        "counter = 10\r\n",
        "\r\n",
        "while counter > 0:\r\n",
        "  print(counter)\r\n",
        "\r\n",
        "# Task 3\r\n",
        "\r\n",
        "  # Write a program that uses a loop to output the seven times table up to 12 x 7 (HINT - use the counter variable and combine it with what you learned about maths with variables.)\r\n",
        "  # Output the multiplied number as part of a sentence.  Example - '1 times 7 is 7'\r\n",
        "\r\n",
        "  # EXTRA CHALLENGE - ask the user to input a number and output the multiplication table for the input."
      ],
      "execution_count": null,
      "outputs": []
    }
  ]
}